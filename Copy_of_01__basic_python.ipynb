{
  "cells": [
    {
      "cell_type": "markdown",
      "id": "4d5fc0e1",
      "metadata": {
        "toc": true,
        "id": "4d5fc0e1"
      },
      "source": [
        "<div class=\"toc\"><ul class=\"toc-item\"><li><span><a id=\"#Fusion-Education\" data-toc-modified-id=\"Fusion-Education-1\"><span class=\"toc-item-num\">1&nbsp;&nbsp;</span>Fusion Education</a></span></li><li><span><a id=\"#Comments\" data-toc-modified-id=\"Comments-2\"><span class=\"toc-item-num\">2&nbsp;&nbsp;</span>Comments</a></span><ul class=\"toc-item\"><li><span><a id=\"#Single-line-comment\" data-toc-modified-id=\"Single-line-comment-2.1\"><span class=\"toc-item-num\">2.1&nbsp;&nbsp;</span>Single line comment</a></span></li><li><span><a id=\"#Multiple-line-comments\" data-toc-modified-id=\"Multiple-line-comments-2.2\"><span class=\"toc-item-num\">2.2&nbsp;&nbsp;</span>Multiple line comments</a></span></li></ul></li><li><span><a id=\"#Variables\" data-toc-modified-id=\"Variables-3\"><span class=\"toc-item-num\">3&nbsp;&nbsp;</span>Variables</a></span><ul class=\"toc-item\"><li><span><a id=\"#Get-Started\" data-toc-modified-id=\"Get-Started-3.1\"><span class=\"toc-item-num\">3.1&nbsp;&nbsp;</span>Get Started</a></span></li><li><span><a id=\"#print()\" data-toc-modified-id=\"print()-3.2\"><span class=\"toc-item-num\">3.2&nbsp;&nbsp;</span><i>print()</i></a></span></li></ul></li><li><span><a id=\"#String-Formatting\" data-toc-modified-id=\"String-Formatting-4\"><span class=\"toc-item-num\">4&nbsp;&nbsp;</span>String Formatting</a></span><ul class=\"toc-item\"><li><span><a id=\"#String-Slice\" data-toc-modified-id=\"String-Slice-4.1\"><span class=\"toc-item-num\">4.1&nbsp;&nbsp;</span>String Slice</a></span><ul class=\"toc-item\"><li><span><a id=\"#Access-single-letter\" data-toc-modified-id=\"Access-single-letter-4.1.1\"><span class=\"toc-item-num\">4.1.1&nbsp;&nbsp;</span>Access single letter</a></span></li><li><span><a id=\"#Access-part-of-the-text\" data-toc-modified-id=\"Access-part-of-the-text-4.1.2\"><span class=\"toc-item-num\">4.1.2&nbsp;&nbsp;</span>Access part of the text</a></span></li><li><span><a id=\"#Access-the-single-letter-(backward)\" data-toc-modified-id=\"Access-the-single-letter-(backward)-4.1.3\"><span class=\"toc-item-num\">4.1.3&nbsp;&nbsp;</span>Access the single letter (backward)</a></span></li><li><span><a id=\"#Access-part-of-the-text\" data-toc-modified-id=\"Access-part-of-the-text-4.1.4\"><span class=\"toc-item-num\">4.1.4&nbsp;&nbsp;</span>Access part of the text</a></span></li></ul></li><li><span><a id=\"#format()\" data-toc-modified-id=\"format()-4.2\"><span class=\"toc-item-num\">4.2&nbsp;&nbsp;</span><i>format()</i></a></span></li></ul></li></ul></div>"
      ]
    },
    {
      "cell_type": "markdown",
      "id": "ba3dbb3a",
      "metadata": {
        "id": "ba3dbb3a"
      },
      "source": [
        "# Fusion Education\n",
        "\n",
        "- Instructor: Hui (Henry) Chen and Peggy\n",
        "- Time: Saturday 11:30 AM - 12:30 PM\n",
        "- Python version: 3.9.x\n",
        "\n",
        "Topics:\n",
        "1. Comments\n",
        "2. Variables\n",
        "3. String Formatting\n",
        "4. <i>Methods</i>: print(), format()"
      ]
    },
    {
      "cell_type": "markdown",
      "id": "212a81af",
      "metadata": {
        "id": "212a81af"
      },
      "source": [
        "# Comments\n",
        "\n",
        "<u>Questions</u>\n",
        "1. What is a comment?\n",
        "2. Why do we need to comment?\n",
        "\n",
        "\n",
        "## Single line comment"
      ]
    },
    {
      "cell_type": "code",
      "execution_count": null,
      "id": "d1b91b44",
      "metadata": {
        "ExecuteTime": {
          "end_time": "2022-06-27T17:31:19.527883Z",
          "start_time": "2022-06-27T17:31:19.525377Z"
        },
        "id": "d1b91b44"
      },
      "outputs": [],
      "source": [
        "# This is a comment.\n",
        "# This is the second line of comments."
      ]
    },
    {
      "cell_type": "markdown",
      "id": "58ebefb2",
      "metadata": {
        "id": "58ebefb2"
      },
      "source": [
        "It is recommended to have a space in between the # and your comment message.\n",
        "\n",
        "e.g., <b>not recommended</b> one could be:"
      ]
    },
    {
      "cell_type": "code",
      "execution_count": null,
      "id": "cb5f8677",
      "metadata": {
        "ExecuteTime": {
          "end_time": "2022-06-27T17:45:35.153541Z",
          "start_time": "2022-06-27T17:45:35.151515Z"
        },
        "id": "cb5f8677"
      },
      "outputs": [],
      "source": [
        "#Today is sunny"
      ]
    },
    {
      "cell_type": "markdown",
      "id": "621e9880",
      "metadata": {
        "id": "621e9880"
      },
      "source": [
        "e.g., <b>recommended</b> one could be:"
      ]
    },
    {
      "cell_type": "code",
      "execution_count": null,
      "id": "b845858d",
      "metadata": {
        "ExecuteTime": {
          "end_time": "2022-06-27T17:45:35.877788Z",
          "start_time": "2022-06-27T17:45:35.875551Z"
        },
        "id": "b845858d"
      },
      "outputs": [],
      "source": [
        "# Today is sunny"
      ]
    },
    {
      "cell_type": "markdown",
      "id": "75922643",
      "metadata": {
        "id": "75922643"
      },
      "source": [
        "## Multiple line comments\n",
        "\n",
        "Sometimes, one line comment is not enough to write/leave a message, so we need to have multiple line comments."
      ]
    },
    {
      "cell_type": "code",
      "execution_count": null,
      "id": "4963f009",
      "metadata": {
        "ExecuteTime": {
          "end_time": "2022-06-27T17:31:21.602065Z",
          "start_time": "2022-06-27T17:31:21.597575Z"
        },
        "id": "4963f009",
        "outputId": "265008d2-6b02-4df5-c34d-c3956fb7c27b"
      },
      "outputs": [
        {
          "data": {
            "text/plain": [
              "'\\n    This is my first multiple line comments.\\n    I can jump to the next line to start to write my next comment.\\n'"
            ]
          },
          "execution_count": 4,
          "metadata": {},
          "output_type": "execute_result"
        }
      ],
      "source": [
        "'''\n",
        "    This is my first multiple line comments.\n",
        "    I can jump to the next line to start to write my next comment.\n",
        "'''"
      ]
    },
    {
      "cell_type": "markdown",
      "id": "4a2847d3",
      "metadata": {
        "id": "4a2847d3"
      },
      "source": [
        "However, in Python, there are two ways to write multiple line comments, and they are as follow:\n",
        "\n",
        "- Three single quote: '''\n",
        "- Three double quote: \"\"\""
      ]
    },
    {
      "cell_type": "code",
      "execution_count": null,
      "id": "edcb475c",
      "metadata": {
        "ExecuteTime": {
          "end_time": "2022-06-27T17:32:57.309517Z",
          "start_time": "2022-06-27T17:32:57.305905Z"
        },
        "id": "edcb475c",
        "outputId": "dfb63d29-9c3f-4b61-d3b9-0339c2ccee71"
      },
      "outputs": [
        {
          "data": {
            "text/plain": [
              "'\\n    This is my first multiple line comments.,\\n    I can jump to the next line to start to write my next comment.\\n'"
            ]
          },
          "execution_count": 6,
          "metadata": {},
          "output_type": "execute_result"
        }
      ],
      "source": [
        "\"\"\"\n",
        "    This is my first multiple line comments.,\n",
        "    I can jump to the next line to start to write my next comment.\n",
        "\"\"\""
      ]
    },
    {
      "cell_type": "markdown",
      "id": "e731a398",
      "metadata": {
        "id": "e731a398"
      },
      "source": [
        "Also, I can use single # to have multple line comments."
      ]
    },
    {
      "cell_type": "code",
      "execution_count": null,
      "id": "bc9c5d10",
      "metadata": {
        "ExecuteTime": {
          "end_time": "2022-06-27T17:37:57.133316Z",
          "start_time": "2022-06-27T17:37:57.130763Z"
        },
        "id": "bc9c5d10"
      },
      "outputs": [],
      "source": [
        "# Today is cloudy.\n",
        "# My bedroom is very humid :("
      ]
    },
    {
      "cell_type": "markdown",
      "id": "fe72db67",
      "metadata": {
        "id": "fe72db67"
      },
      "source": [
        "---"
      ]
    },
    {
      "cell_type": "markdown",
      "id": "18ac27fd",
      "metadata": {
        "id": "18ac27fd"
      },
      "source": [
        "# Variables\n",
        "\n",
        "## Get Started\n",
        "\n",
        "<u>Questions</u>\n",
        "\n",
        "- What is a variable?\n",
        "- In the following three options, where do the variables stored?\n",
        "    - CPU\n",
        "    - RAM\n",
        "    - Storage\n",
        "\n",
        "\n",
        "How to create a variable in Python?\n",
        "\n",
        "LHS = RHS<br>\n",
        "\\<variable name> = \\<variable value>\n",
        "\n",
        "<br>\n",
        "\n",
        "<b>Rules on how to name a variable</b>\n",
        "1. It can be only one word.\n",
        "2. It can use only letters, numbers, and the underscore (_) character.\n",
        "3. It can end with a number or the underscore (_) character.\n",
        "4. It can’t begin with a number.\n",
        "5. It can’t contain any special characters.\n",
        "\n",
        "<br>\n",
        "\n",
        "<b>Rules on how to give a variable value</b>\n",
        "1. Number do not need single/double quote.\n",
        "2. Text data value need single/double quote."
      ]
    },
    {
      "cell_type": "code",
      "execution_count": null,
      "id": "0cc6e5f5",
      "metadata": {
        "ExecuteTime": {
          "end_time": "2022-06-27T18:03:09.514351Z",
          "start_time": "2022-06-27T18:03:09.511538Z"
        },
        "id": "0cc6e5f5"
      },
      "outputs": [],
      "source": [
        "# examples\n",
        "\n",
        "# variables with number values\n",
        "\n",
        "Henry_age = 24\n",
        "Sean_age = 10\n",
        "weather = 109.92\n",
        "\n",
        "# variables with text values\n",
        "name1 = \"Henry\"\n",
        "name2 = \"Sean\"\n",
        "name3 = \"William\"\n",
        "\n",
        "# more examples\n",
        "pizza999 = 94.23\n",
        "noodles837 = 442"
      ]
    },
    {
      "cell_type": "markdown",
      "id": "5791f121",
      "metadata": {
        "id": "5791f121"
      },
      "source": [
        "Note, it is recommended to create a variable with all lower case unless it's special variable. e.g., a person's name or a variable that will not change its value.\n",
        "\n",
        "With the variables that will not change its value, we always make the variable name all upper case! And, we call it as a <b>constant</b>!\n",
        "\n",
        "e.g., a variable that will never change its value forever would be $\\pi$"
      ]
    },
    {
      "cell_type": "code",
      "execution_count": null,
      "id": "403d3fe5",
      "metadata": {
        "ExecuteTime": {
          "end_time": "2022-06-27T18:12:24.224447Z",
          "start_time": "2022-06-27T18:12:24.222188Z"
        },
        "id": "403d3fe5"
      },
      "outputs": [],
      "source": [
        "PI = 3.1415"
      ]
    },
    {
      "cell_type": "markdown",
      "id": "8d486487",
      "metadata": {
        "id": "8d486487"
      },
      "source": [
        "## <i>print()</i>\n",
        "\n",
        "In programming, we are able to output the result that we want to display on the screen. In order to do it, we can use Python's built-in function <i>print()</i>.\n",
        "\n",
        "Just like that, we simply put whatever we want inside the parentheses."
      ]
    },
    {
      "cell_type": "code",
      "execution_count": null,
      "id": "9e72e6c7",
      "metadata": {
        "ExecuteTime": {
          "end_time": "2022-06-27T18:23:17.269891Z",
          "start_time": "2022-06-27T18:23:17.267476Z"
        },
        "id": "9e72e6c7",
        "outputId": "095b4704-57f6-44d6-f135-f828b6c5891a"
      },
      "outputs": [
        {
          "name": "stdout",
          "output_type": "stream",
          "text": [
            "24\n"
          ]
        }
      ],
      "source": [
        "# example\n",
        "print(Henry_age)"
      ]
    },
    {
      "cell_type": "markdown",
      "id": "6d9d8217",
      "metadata": {
        "id": "6d9d8217"
      },
      "source": [
        "# String Formatting\n",
        "\n",
        "<u>Questions</u>\n",
        "- What is a string?\n",
        "- What is string formatting?\n",
        "\n",
        "\n",
        "String formatting is a custom text or variable in predefined text.\n",
        "\n",
        "## String Slice\n",
        "\n",
        "- Take part of the string\n",
        "\n",
        "\n",
        "### Access single letter\n",
        "![string_slice_1.png](attachment:assets/img/string_slice_1.png)"
      ]
    },
    {
      "cell_type": "code",
      "execution_count": null,
      "id": "15eccd1f",
      "metadata": {
        "ExecuteTime": {
          "end_time": "2022-06-28T01:35:11.809941Z",
          "start_time": "2022-06-28T01:35:11.807436Z"
        },
        "id": "15eccd1f",
        "outputId": "962c662b-8e1b-427a-9c4a-eab77b35221d"
      },
      "outputs": [
        {
          "name": "stdout",
          "output_type": "stream",
          "text": [
            "Formatting\n"
          ]
        }
      ],
      "source": [
        "example = \"Formatting\"\n",
        "\n",
        "\n",
        "print(example)\n",
        "# print(example[1])"
      ]
    },
    {
      "cell_type": "markdown",
      "id": "ac7bf7a8",
      "metadata": {
        "id": "ac7bf7a8"
      },
      "source": [
        "### Access part of the text\n",
        "\n",
        "![string_slice_1_b.png](attachment:assets/img/string_slice_1_b.png)\n",
        "\n",
        "Access the slice through [] where we specify the range that we want to access.\n",
        "\n",
        "e.g., [\\<start>:\\<end>]"
      ]
    },
    {
      "cell_type": "code",
      "execution_count": null,
      "id": "d47d5625",
      "metadata": {
        "ExecuteTime": {
          "end_time": "2022-06-28T01:35:08.217647Z",
          "start_time": "2022-06-28T01:35:08.215302Z"
        },
        "id": "d47d5625",
        "outputId": "e6f05992-f84a-4c2d-83eb-665103721011"
      },
      "outputs": [
        {
          "name": "stdout",
          "output_type": "stream",
          "text": [
            "Formatting\n"
          ]
        }
      ],
      "source": [
        "print(example)\n",
        "# print(example[5:6])"
      ]
    },
    {
      "cell_type": "markdown",
      "id": "e2b450b1",
      "metadata": {
        "id": "e2b450b1"
      },
      "source": [
        "### Access the single letter (backward)\n",
        "\n",
        "![string_slice_2.png](attachment:assets/img/string_slice_2.png)"
      ]
    },
    {
      "cell_type": "code",
      "execution_count": null,
      "id": "1e251520",
      "metadata": {
        "ExecuteTime": {
          "end_time": "2022-06-28T01:35:05.865842Z",
          "start_time": "2022-06-28T01:35:05.863308Z"
        },
        "id": "1e251520",
        "outputId": "64ced570-bc6e-4594-f88b-d4e28933005a"
      },
      "outputs": [
        {
          "name": "stdout",
          "output_type": "stream",
          "text": [
            "Formatting\n"
          ]
        }
      ],
      "source": [
        "print(example)\n",
        "# print(example[-6])"
      ]
    },
    {
      "cell_type": "markdown",
      "id": "eb257add",
      "metadata": {
        "id": "eb257add"
      },
      "source": [
        "### Access part of the text\n",
        "\n",
        "![string_slice_2_b.png](attachment:assets/img/string_slice_2_b.png)"
      ]
    },
    {
      "cell_type": "code",
      "execution_count": null,
      "id": "9213316f",
      "metadata": {
        "ExecuteTime": {
          "end_time": "2022-06-28T01:35:00.459452Z",
          "start_time": "2022-06-28T01:35:00.456119Z"
        },
        "id": "9213316f",
        "outputId": "073a3401-330e-4322-bc95-c3c8b813f346"
      },
      "outputs": [
        {
          "name": "stdout",
          "output_type": "stream",
          "text": [
            "Formatting\n"
          ]
        }
      ],
      "source": [
        "print(example)\n",
        "# print(example[-4:-1])"
      ]
    },
    {
      "cell_type": "markdown",
      "id": "23e26772",
      "metadata": {
        "id": "23e26772"
      },
      "source": [
        "## <i>format()</i>\n",
        "\n",
        "Sometimes, we may want to print more than just the value of the variable. Therefore, <i>format()</i> method could be very helpful here!"
      ]
    },
    {
      "cell_type": "code",
      "execution_count": null,
      "id": "c843d146",
      "metadata": {
        "ExecuteTime": {
          "end_time": "2022-06-28T01:36:57.055258Z",
          "start_time": "2022-06-28T01:36:57.052854Z"
        },
        "id": "c843d146",
        "outputId": "cd01887f-cef1-4e91-dd0f-d0e8a8617ecf"
      },
      "outputs": [
        {
          "name": "stdout",
          "output_type": "stream",
          "text": [
            "Henry\n"
          ]
        }
      ],
      "source": [
        "print(name1)"
      ]
    },
    {
      "cell_type": "code",
      "execution_count": null,
      "id": "8e275e8b",
      "metadata": {
        "ExecuteTime": {
          "end_time": "2022-06-28T01:37:08.434568Z",
          "start_time": "2022-06-28T01:37:08.432297Z"
        },
        "id": "8e275e8b",
        "outputId": "3eb7dad9-9161-4af9-e798-a38fef7ad998"
      },
      "outputs": [
        {
          "name": "stdout",
          "output_type": "stream",
          "text": [
            "My name is Henry\n"
          ]
        }
      ],
      "source": [
        "print(\"My name is {}\".format(name1))"
      ]
    }
  ],
  "metadata": {
    "kernelspec": {
      "display_name": "ml",
      "language": "python",
      "name": "ml"
    },
    "language_info": {
      "codemirror_mode": {
        "name": "ipython",
        "version": 3
      },
      "file_extension": ".py",
      "mimetype": "text/x-python",
      "name": "python",
      "nbconvert_exporter": "python",
      "pygments_lexer": "ipython3",
      "version": "3.10.5"
    },
    "toc": {
      "base_numbering": 1,
      "nav_menu": {
        "height": "479px",
        "width": "383px"
      },
      "number_sections": true,
      "sideBar": true,
      "skip_h1_title": false,
      "title_cell": "Table of Contents",
      "title_sidebar": "Contents",
      "toc_cell": true,
      "toc_position": {
        "height": "calc(100% - 180px)",
        "left": "10px",
        "top": "150px",
        "width": "231px"
      },
      "toc_section_display": true,
      "toc_window_display": true
    },
    "colab": {
      "name": "Copy of 01__basic_python.ipynb",
      "provenance": [],
      "collapsed_sections": []
    }
  },
  "nbformat": 4,
  "nbformat_minor": 5
}