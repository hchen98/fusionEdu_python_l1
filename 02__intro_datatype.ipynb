{
 "cells": [
  {
   "cell_type": "markdown",
   "id": "af5c725f",
   "metadata": {
    "toc": true
   },
   "source": [
    "<h1>Table of Contents<span class=\"tocSkip\"></span></h1>\n",
    "<div class=\"toc\"><ul class=\"toc-item\"><li><span><a href=\"#Fusion-Education\" data-toc-modified-id=\"Fusion-Education-1\"><span class=\"toc-item-num\">1&nbsp;&nbsp;</span>Fusion Education</a></span></li><li><span><a href=\"#Integer\" data-toc-modified-id=\"Integer-2\"><span class=\"toc-item-num\">2&nbsp;&nbsp;</span>Integer</a></span><ul class=\"toc-item\"><li><span><a href=\"#int()\" data-toc-modified-id=\"int()-2.1\"><span class=\"toc-item-num\">2.1&nbsp;&nbsp;</span><i>int()</i></a></span></li></ul></li><li><span><a href=\"#Float\" data-toc-modified-id=\"Float-3\"><span class=\"toc-item-num\">3&nbsp;&nbsp;</span>Float</a></span><ul class=\"toc-item\"><li><span><a href=\"#float()\" data-toc-modified-id=\"float()-3.1\"><span class=\"toc-item-num\">3.1&nbsp;&nbsp;</span><i>float()</i></a></span></li></ul></li><li><span><a href=\"#Boolean\" data-toc-modified-id=\"Boolean-4\"><span class=\"toc-item-num\">4&nbsp;&nbsp;</span>Boolean</a></span><ul class=\"toc-item\"><li><span><a href=\"#bool()\" data-toc-modified-id=\"bool()-4.1\"><span class=\"toc-item-num\">4.1&nbsp;&nbsp;</span><i>bool()</i></a></span></li></ul></li><li><span><a href=\"#String\" data-toc-modified-id=\"String-5\"><span class=\"toc-item-num\">5&nbsp;&nbsp;</span>String</a></span><ul class=\"toc-item\"><li><span><a href=\"#&quot;-VS-'\" data-toc-modified-id=\"&quot;-VS-'-5.1\"><span class=\"toc-item-num\">5.1&nbsp;&nbsp;</span>\" VS '</a></span></li><li><span><a href=\"#str()\" data-toc-modified-id=\"str()-5.2\"><span class=\"toc-item-num\">5.2&nbsp;&nbsp;</span><i>str()</i></a></span></li><li><span><a href=\"#\\n\" data-toc-modified-id=\"\\n-5.3\"><span class=\"toc-item-num\">5.3&nbsp;&nbsp;</span><i>\\n</i></a></span></li><li><span><a href=\"#\\t\" data-toc-modified-id=\"\\t-5.4\"><span class=\"toc-item-num\">5.4&nbsp;&nbsp;</span><i>\\t</i></a></span></li></ul></li><li><span><a href=\"#Datatype-check,-input,-and-conversion\" data-toc-modified-id=\"Datatype-check,-input,-and-conversion-6\"><span class=\"toc-item-num\">6&nbsp;&nbsp;</span>Datatype check, input, and conversion</a></span><ul class=\"toc-item\"><li><span><a href=\"#type()\" data-toc-modified-id=\"type()-6.1\"><span class=\"toc-item-num\">6.1&nbsp;&nbsp;</span><i>type()</i></a></span></li><li><span><a href=\"#input()\" data-toc-modified-id=\"input()-6.2\"><span class=\"toc-item-num\">6.2&nbsp;&nbsp;</span><i>input()</i></a></span></li><li><span><a href=\"#Conversion\" data-toc-modified-id=\"Conversion-6.3\"><span class=\"toc-item-num\">6.3&nbsp;&nbsp;</span>Conversion</a></span></li></ul></li></ul></div>"
   ]
  },
  {
   "cell_type": "markdown",
   "id": "6ebcc4db",
   "metadata": {},
   "source": [
    "# Fusion Education\n",
    "\n",
    "- Instructor: Hui (Henry) Chen and Peggy\n",
    "- Time: Saturday 11:30 AM - 12:30 PM\n",
    "- Python version: 3.9.x\n",
    "\n",
    "Topics:\n",
    "1. Review\n",
    "2. Datatype: Integer, Float, Boolean, String\n",
    "    - <i>Methods</i>: int(), float(), bool(), str(), type(), input()\n",
    "    \n",
    "\n",
    "# Integer\n",
    "\n",
    "Digital without any decimals, and there is no value range limitation. The only limitation is by the amount of memory your system has.\n",
    "\n",
    "e.g., 0, 1, 2, 21, 24, 912, and etc."
   ]
  },
  {
   "cell_type": "code",
   "execution_count": 3,
   "id": "89d8c94d",
   "metadata": {
    "ExecuteTime": {
     "end_time": "2022-06-28T02:21:07.300135Z",
     "start_time": "2022-06-28T02:21:07.297567Z"
    }
   },
   "outputs": [],
   "source": [
    "x = 9\n",
    "y = 349\n",
    "z = -452"
   ]
  },
  {
   "cell_type": "code",
   "execution_count": 6,
   "id": "cd552ebc",
   "metadata": {
    "ExecuteTime": {
     "end_time": "2022-06-28T02:25:20.148375Z",
     "start_time": "2022-06-28T02:25:20.145473Z"
    }
   },
   "outputs": [
    {
     "name": "stdout",
     "output_type": "stream",
     "text": [
      "-452\n"
     ]
    }
   ],
   "source": [
    "print(z)"
   ]
  },
  {
   "cell_type": "markdown",
   "id": "1552f6e7",
   "metadata": {},
   "source": [
    "## <i>int()</i>\n",
    "\n",
    "Use <i>int()</i> method to create an integer."
   ]
  },
  {
   "cell_type": "code",
   "execution_count": 30,
   "id": "2b71b739",
   "metadata": {
    "ExecuteTime": {
     "end_time": "2022-06-28T02:48:01.598832Z",
     "start_time": "2022-06-28T02:48:01.596157Z"
    }
   },
   "outputs": [
    {
     "name": "stdout",
     "output_type": "stream",
     "text": [
      "9\n"
     ]
    }
   ],
   "source": [
    "x = int(9)\n",
    "\n",
    "print(x)"
   ]
  },
  {
   "cell_type": "markdown",
   "id": "dadd51e8",
   "metadata": {},
   "source": [
    "# Float\n",
    "\n",
    "aka floating-point number. Their values are specified with deciaml point."
   ]
  },
  {
   "cell_type": "code",
   "execution_count": 4,
   "id": "890ab78b",
   "metadata": {
    "ExecuteTime": {
     "end_time": "2022-06-28T02:21:52.604368Z",
     "start_time": "2022-06-28T02:21:52.518488Z"
    }
   },
   "outputs": [],
   "source": [
    "a = 0.999\n",
    "b = -99.2324154234315196879347899238740234\n",
    "PI = 3.141592653589793238462643383279502884197169399375105820974944592307816406286208"
   ]
  },
  {
   "cell_type": "code",
   "execution_count": 7,
   "id": "b0e44b78",
   "metadata": {
    "ExecuteTime": {
     "end_time": "2022-06-28T02:25:33.555661Z",
     "start_time": "2022-06-28T02:25:33.553048Z"
    }
   },
   "outputs": [
    {
     "name": "stdout",
     "output_type": "stream",
     "text": [
      "3.141592653589793\n"
     ]
    }
   ],
   "source": [
    "print(PI)"
   ]
  },
  {
   "cell_type": "markdown",
   "id": "13ff1a64",
   "metadata": {},
   "source": [
    "## <i>float()</i>\n",
    "\n",
    "Use <i>float()</i> method to create a float data type."
   ]
  },
  {
   "cell_type": "code",
   "execution_count": 31,
   "id": "99b6d7e0",
   "metadata": {
    "ExecuteTime": {
     "end_time": "2022-06-28T02:48:56.950970Z",
     "start_time": "2022-06-28T02:48:56.948519Z"
    }
   },
   "outputs": [
    {
     "name": "stdout",
     "output_type": "stream",
     "text": [
      "0.999\n"
     ]
    }
   ],
   "source": [
    "a = float(0.999)\n",
    "\n",
    "print(a)"
   ]
  },
  {
   "cell_type": "markdown",
   "id": "6e837d20",
   "metadata": {},
   "source": [
    "# Boolean\n",
    "\n",
    "Always one of the two values: (true or false) and (0 or 1)."
   ]
  },
  {
   "cell_type": "code",
   "execution_count": 5,
   "id": "2ea2a56f",
   "metadata": {
    "ExecuteTime": {
     "end_time": "2022-06-28T02:25:10.613972Z",
     "start_time": "2022-06-28T02:25:10.611809Z"
    }
   },
   "outputs": [],
   "source": [
    "d = True\n",
    "e = False\n",
    "\n",
    "f = 0\n",
    "g = 1"
   ]
  },
  {
   "cell_type": "code",
   "execution_count": 9,
   "id": "35fc95d9",
   "metadata": {
    "ExecuteTime": {
     "end_time": "2022-06-28T02:25:43.671808Z",
     "start_time": "2022-06-28T02:25:43.669443Z"
    }
   },
   "outputs": [
    {
     "name": "stdout",
     "output_type": "stream",
     "text": [
      "False\n"
     ]
    }
   ],
   "source": [
    "print(e)"
   ]
  },
  {
   "cell_type": "markdown",
   "id": "a22410aa",
   "metadata": {},
   "source": [
    "## <i>bool()</i>"
   ]
  },
  {
   "cell_type": "code",
   "execution_count": 33,
   "id": "3f9c7aa1",
   "metadata": {
    "ExecuteTime": {
     "end_time": "2022-06-28T02:49:57.394608Z",
     "start_time": "2022-06-28T02:49:57.392265Z"
    }
   },
   "outputs": [
    {
     "name": "stdout",
     "output_type": "stream",
     "text": [
      "True\n"
     ]
    }
   ],
   "source": [
    "d = bool(True)\n",
    "\n",
    "print(d)"
   ]
  },
  {
   "cell_type": "markdown",
   "id": "4b81b758",
   "metadata": {},
   "source": [
    "<u>Question</u>: What is the value of \"aa\"?"
   ]
  },
  {
   "cell_type": "code",
   "execution_count": 34,
   "id": "f6eeffde",
   "metadata": {
    "ExecuteTime": {
     "end_time": "2022-06-28T02:51:24.367276Z",
     "start_time": "2022-06-28T02:51:24.365164Z"
    }
   },
   "outputs": [],
   "source": [
    "aa = bool(0)\n",
    "\n",
    "# print(aa)"
   ]
  },
  {
   "cell_type": "markdown",
   "id": "1a90b670",
   "metadata": {},
   "source": [
    "# String\n",
    "\n",
    "Text data where no standard on how long it should be. However, the only limitation is by the amount of memory your system has."
   ]
  },
  {
   "cell_type": "code",
   "execution_count": 10,
   "id": "daae2d07",
   "metadata": {
    "ExecuteTime": {
     "end_time": "2022-06-28T02:28:59.083476Z",
     "start_time": "2022-06-28T02:28:59.081038Z"
    }
   },
   "outputs": [],
   "source": [
    "diary1 = \"Today is sunny. I want to get out and have a lunch with my friends!\"\n",
    "weather = \"Today is cloudy, so my room is humid.\""
   ]
  },
  {
   "cell_type": "code",
   "execution_count": 11,
   "id": "73fc5278",
   "metadata": {
    "ExecuteTime": {
     "end_time": "2022-06-28T02:29:03.762151Z",
     "start_time": "2022-06-28T02:29:03.760041Z"
    }
   },
   "outputs": [
    {
     "name": "stdout",
     "output_type": "stream",
     "text": [
      "Today is sunny. I want to get out and have a lunch with my friends!\n"
     ]
    }
   ],
   "source": [
    "print(diary1)"
   ]
  },
  {
   "cell_type": "markdown",
   "id": "cb8b58cc",
   "metadata": {},
   "source": [
    "## \" VS '\n",
    "\n",
    "- If we have double quote outside the text, then we cannot have double quote inside the text."
   ]
  },
  {
   "cell_type": "code",
   "execution_count": 27,
   "id": "717a7a03",
   "metadata": {
    "ExecuteTime": {
     "end_time": "2022-06-28T02:42:15.680541Z",
     "start_time": "2022-06-28T02:42:15.677051Z"
    }
   },
   "outputs": [
    {
     "ename": "SyntaxError",
     "evalue": "invalid syntax (278668498.py, line 1)",
     "output_type": "error",
     "traceback": [
      "\u001b[0;36m  Input \u001b[0;32mIn [27]\u001b[0;36m\u001b[0m\n\u001b[0;31m    movie1 = \"My name is Henry, and I love to watch \"The Shawshank Redemption\"\"\u001b[0m\n\u001b[0m                                                     ^\u001b[0m\n\u001b[0;31mSyntaxError\u001b[0m\u001b[0;31m:\u001b[0m invalid syntax\n"
     ]
    }
   ],
   "source": [
    "movie = \"My name is Henry, and I love to watch \"The Shawshank Redemption\"\"\n",
    "\n",
    "print(movie)"
   ]
  },
  {
   "cell_type": "markdown",
   "id": "da870a2a",
   "metadata": {},
   "source": [
    "- We can add escape characters to the character."
   ]
  },
  {
   "cell_type": "code",
   "execution_count": 28,
   "id": "cce5ccdb",
   "metadata": {
    "ExecuteTime": {
     "end_time": "2022-06-28T02:45:53.180633Z",
     "start_time": "2022-06-28T02:45:53.178134Z"
    }
   },
   "outputs": [
    {
     "name": "stdout",
     "output_type": "stream",
     "text": [
      "My name is Henry, and I love to watch \"The Shawshank Redemption\"\n"
     ]
    }
   ],
   "source": [
    "movie = \"My name is Henry, and I love to watch \\\"The Shawshank Redemption\\\"\"\n",
    "\n",
    "print(movie)"
   ]
  },
  {
   "cell_type": "markdown",
   "id": "543411ae",
   "metadata": {},
   "source": [
    "- We can use single quote and then double quote inside the text."
   ]
  },
  {
   "cell_type": "code",
   "execution_count": 24,
   "id": "60bb83fb",
   "metadata": {
    "ExecuteTime": {
     "end_time": "2022-06-28T02:40:38.147952Z",
     "start_time": "2022-06-28T02:40:38.144483Z"
    }
   },
   "outputs": [
    {
     "name": "stdout",
     "output_type": "stream",
     "text": [
      "My name is Henry, and I love to watch \"The Shawshank Redemption\"\n"
     ]
    }
   ],
   "source": [
    "movie = 'My name is Henry, and I love to watch \"The Shawshank Redemption\"'\n",
    "\n",
    "print(movie)"
   ]
  },
  {
   "cell_type": "markdown",
   "id": "190214cd",
   "metadata": {},
   "source": [
    "- Also, we can use single quote inside the double quote."
   ]
  },
  {
   "cell_type": "code",
   "execution_count": 25,
   "id": "6be94067",
   "metadata": {
    "ExecuteTime": {
     "end_time": "2022-06-28T02:41:01.707364Z",
     "start_time": "2022-06-28T02:41:01.704648Z"
    }
   },
   "outputs": [
    {
     "name": "stdout",
     "output_type": "stream",
     "text": [
      "My name is Henry, and I love to watch 'The Shawshank Redemption'\n"
     ]
    }
   ],
   "source": [
    "movie = \"My name is Henry, and I love to watch 'The Shawshank Redemption'\"\n",
    "\n",
    "print(movie)"
   ]
  },
  {
   "cell_type": "markdown",
   "id": "accfeb26",
   "metadata": {},
   "source": [
    "## <i>str()</i>"
   ]
  },
  {
   "cell_type": "code",
   "execution_count": 35,
   "id": "16cdf7b9",
   "metadata": {
    "ExecuteTime": {
     "end_time": "2022-06-28T02:52:43.800593Z",
     "start_time": "2022-06-28T02:52:43.797787Z"
    }
   },
   "outputs": [],
   "source": [
    "name1 = str(\"Henry\")\n",
    "name2 = str('Sean')"
   ]
  },
  {
   "cell_type": "code",
   "execution_count": 37,
   "id": "7f9b8220",
   "metadata": {
    "ExecuteTime": {
     "end_time": "2022-06-28T02:52:53.340750Z",
     "start_time": "2022-06-28T02:52:53.338426Z"
    }
   },
   "outputs": [
    {
     "name": "stdout",
     "output_type": "stream",
     "text": [
      "Henry\n"
     ]
    }
   ],
   "source": [
    "print(name1)"
   ]
  },
  {
   "cell_type": "markdown",
   "id": "46878f01",
   "metadata": {},
   "source": [
    "## <i>\\n</i>\n",
    "\n",
    "Sometimes, we may write a full paragraphs, and we want to jump to the next line."
   ]
  },
  {
   "cell_type": "code",
   "execution_count": 12,
   "id": "d543ea7f",
   "metadata": {
    "ExecuteTime": {
     "end_time": "2022-06-28T02:30:32.737020Z",
     "start_time": "2022-06-28T02:30:32.734364Z"
    }
   },
   "outputs": [
    {
     "name": "stdout",
     "output_type": "stream",
     "text": [
      "Today is cloudy, so my room is humid.\n"
     ]
    }
   ],
   "source": [
    "print(diary1)"
   ]
  },
  {
   "cell_type": "code",
   "execution_count": 15,
   "id": "f984f20a",
   "metadata": {
    "ExecuteTime": {
     "end_time": "2022-06-28T02:31:25.863358Z",
     "start_time": "2022-06-28T02:31:25.859990Z"
    }
   },
   "outputs": [
    {
     "name": "stdout",
     "output_type": "stream",
     "text": [
      "Today is sunny. \n",
      " I want to get out and have a lunch with my friends!\n"
     ]
    }
   ],
   "source": [
    "diary2 = \"Today is sunny. \\n I want to get out and have a lunch with my friends!\"\n",
    "\n",
    "print(diary2)"
   ]
  },
  {
   "cell_type": "markdown",
   "id": "0ff04b8f",
   "metadata": {},
   "source": [
    "## <i>\\t</i>\n",
    "\n",
    "Sometimes, we may want to have a tab in between the text."
   ]
  },
  {
   "cell_type": "code",
   "execution_count": 29,
   "id": "385e5659",
   "metadata": {
    "ExecuteTime": {
     "end_time": "2022-06-28T02:46:23.881426Z",
     "start_time": "2022-06-28T02:46:23.878568Z"
    }
   },
   "outputs": [
    {
     "name": "stdout",
     "output_type": "stream",
     "text": [
      "Today is sunny. \t I want to get out and have a lunch with my friends!\n"
     ]
    }
   ],
   "source": [
    "diary2 = \"Today is sunny. \\t I want to get out and have a lunch with my friends!\"\n",
    "\n",
    "print(diary2)"
   ]
  },
  {
   "cell_type": "markdown",
   "id": "fe4c01f0",
   "metadata": {},
   "source": [
    "# Datatype check, input, and conversion\n",
    "\n",
    "## <i>type()</i>"
   ]
  },
  {
   "cell_type": "code",
   "execution_count": 38,
   "id": "a743720a",
   "metadata": {
    "ExecuteTime": {
     "end_time": "2022-06-28T02:54:04.637035Z",
     "start_time": "2022-06-28T02:54:04.635305Z"
    }
   },
   "outputs": [],
   "source": [
    "a = 0.99999\n",
    "\n",
    "# print(type(a))"
   ]
  },
  {
   "cell_type": "code",
   "execution_count": 39,
   "id": "c2353900",
   "metadata": {
    "ExecuteTime": {
     "end_time": "2022-06-28T02:54:23.273829Z",
     "start_time": "2022-06-28T02:54:23.271626Z"
    }
   },
   "outputs": [],
   "source": [
    "b = bool(1)\n",
    "\n",
    "# print(type(b))"
   ]
  },
  {
   "cell_type": "markdown",
   "id": "8658d5df",
   "metadata": {},
   "source": [
    "## <i>input()</i>\n",
    "\n",
    "Take user's input from the console."
   ]
  },
  {
   "cell_type": "code",
   "execution_count": 42,
   "id": "a6e672f0",
   "metadata": {
    "ExecuteTime": {
     "end_time": "2022-06-28T02:57:27.520536Z",
     "start_time": "2022-06-28T02:57:25.848192Z"
    }
   },
   "outputs": [
    {
     "name": "stdout",
     "output_type": "stream",
     "text": [
      "What is your name?0\n",
      "0\n"
     ]
    }
   ],
   "source": [
    "input_ = input(\"What is your name?\")\n",
    "\n",
    "print(input_)"
   ]
  },
  {
   "cell_type": "markdown",
   "id": "c6887d9e",
   "metadata": {},
   "source": [
    "<u>Question</u>: What is the datatype the variable \"input_\" will be?"
   ]
  },
  {
   "cell_type": "code",
   "execution_count": 43,
   "id": "47d3b802",
   "metadata": {
    "ExecuteTime": {
     "end_time": "2022-06-28T02:57:29.162836Z",
     "start_time": "2022-06-28T02:57:29.159978Z"
    }
   },
   "outputs": [
    {
     "name": "stdout",
     "output_type": "stream",
     "text": [
      "<class 'str'>\n"
     ]
    }
   ],
   "source": [
    "print(type(input_))"
   ]
  },
  {
   "cell_type": "markdown",
   "id": "1f36e42b",
   "metadata": {},
   "source": [
    "## Conversion\n",
    "\n",
    "Like \"input_\" variable, we can convert that variable to any datatype that we want."
   ]
  },
  {
   "cell_type": "code",
   "execution_count": 45,
   "id": "b4bd47b1",
   "metadata": {
    "ExecuteTime": {
     "end_time": "2022-06-28T03:02:54.045549Z",
     "start_time": "2022-06-28T03:02:54.042787Z"
    }
   },
   "outputs": [
    {
     "name": "stdout",
     "output_type": "stream",
     "text": [
      "0\n",
      "<class 'int'>\n"
     ]
    }
   ],
   "source": [
    "converted = int(input_)\n",
    "\n",
    "print(converted)\n",
    "print(type(converted))"
   ]
  }
 ],
 "metadata": {
  "kernelspec": {
   "display_name": "ml",
   "language": "python",
   "name": "ml"
  },
  "language_info": {
   "codemirror_mode": {
    "name": "ipython",
    "version": 3
   },
   "file_extension": ".py",
   "mimetype": "text/x-python",
   "name": "python",
   "nbconvert_exporter": "python",
   "pygments_lexer": "ipython3",
   "version": "3.10.5"
  },
  "toc": {
   "base_numbering": 1,
   "nav_menu": {
    "height": "394px",
    "width": "322px"
   },
   "number_sections": true,
   "sideBar": true,
   "skip_h1_title": false,
   "title_cell": "Table of Contents",
   "title_sidebar": "Contents",
   "toc_cell": true,
   "toc_position": {
    "height": "calc(100% - 180px)",
    "left": "10px",
    "top": "150px",
    "width": "284px"
   },
   "toc_section_display": true,
   "toc_window_display": true
  }
 },
 "nbformat": 4,
 "nbformat_minor": 5
}
