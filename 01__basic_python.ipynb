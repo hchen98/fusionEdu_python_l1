{
 "cells": [
  {
   "cell_type": "markdown",
   "id": "4d5fc0e1",
   "metadata": {
    "toc": true
   },
   "source": [
    "<h1>Table of Contents<span class=\"tocSkip\"></span></h1>\n",
    "<div class=\"toc\"><ul class=\"toc-item\"><li><span><a href=\"#Fusion-Education\" data-toc-modified-id=\"Fusion-Education-1\"><span class=\"toc-item-num\">1&nbsp;&nbsp;</span>Fusion Education</a></span></li><li><span><a href=\"#Comments\" data-toc-modified-id=\"Comments-2\"><span class=\"toc-item-num\">2&nbsp;&nbsp;</span>Comments</a></span><ul class=\"toc-item\"><li><span><a href=\"#Single-line-comment\" data-toc-modified-id=\"Single-line-comment-2.1\"><span class=\"toc-item-num\">2.1&nbsp;&nbsp;</span>Single line comment</a></span></li><li><span><a href=\"#Multiple-line-comments\" data-toc-modified-id=\"Multiple-line-comments-2.2\"><span class=\"toc-item-num\">2.2&nbsp;&nbsp;</span>Multiple line comments</a></span></li></ul></li><li><span><a href=\"#Variables\" data-toc-modified-id=\"Variables-3\"><span class=\"toc-item-num\">3&nbsp;&nbsp;</span>Variables</a></span><ul class=\"toc-item\"><li><span><a href=\"#Get-Started\" data-toc-modified-id=\"Get-Started-3.1\"><span class=\"toc-item-num\">3.1&nbsp;&nbsp;</span>Get Started</a></span></li><li><span><a href=\"#print()\" data-toc-modified-id=\"print()-3.2\"><span class=\"toc-item-num\">3.2&nbsp;&nbsp;</span><i>print()</i></a></span></li></ul></li><li><span><a href=\"#String-Formatting\" data-toc-modified-id=\"String-Formatting-4\"><span class=\"toc-item-num\">4&nbsp;&nbsp;</span>String Formatting</a></span><ul class=\"toc-item\"><li><span><a href=\"#String-Slice\" data-toc-modified-id=\"String-Slice-4.1\"><span class=\"toc-item-num\">4.1&nbsp;&nbsp;</span>String Slice</a></span><ul class=\"toc-item\"><li><span><a href=\"#Access-single-letter\" data-toc-modified-id=\"Access-single-letter-4.1.1\"><span class=\"toc-item-num\">4.1.1&nbsp;&nbsp;</span>Access single letter</a></span></li><li><span><a href=\"#Access-part-of-the-text\" data-toc-modified-id=\"Access-part-of-the-text-4.1.2\"><span class=\"toc-item-num\">4.1.2&nbsp;&nbsp;</span>Access part of the text</a></span></li><li><span><a href=\"#Access-the-single-letter-(backward)\" data-toc-modified-id=\"Access-the-single-letter-(backward)-4.1.3\"><span class=\"toc-item-num\">4.1.3&nbsp;&nbsp;</span>Access the single letter (backward)</a></span></li><li><span><a href=\"#Access-part-of-the-text\" data-toc-modified-id=\"Access-part-of-the-text-4.1.4\"><span class=\"toc-item-num\">4.1.4&nbsp;&nbsp;</span>Access part of the text</a></span></li></ul></li><li><span><a href=\"#format()\" data-toc-modified-id=\"format()-4.2\"><span class=\"toc-item-num\">4.2&nbsp;&nbsp;</span><i>format()</i></a></span></li></ul></li></ul></div>"
   ]
  },
  {
   "cell_type": "markdown",
   "id": "ba3dbb3a",
   "metadata": {},
   "source": [
    "# Fusion Education\n",
    "\n",
    "- Instructor: Hui (Henry) Chen and Peggy\n",
    "- Time: Saturday 11:30 AM - 12:30 PM\n",
    "- Python version: 3.9.x\n",
    "\n",
    "Topics:\n",
    "1. Comments\n",
    "2. Variables\n",
    "3. String Formatting\n",
    "4. <i>Methods</i>: print(), format()"
   ]
  },
  {
   "cell_type": "markdown",
   "id": "212a81af",
   "metadata": {},
   "source": [
    "# Comments\n",
    "\n",
    "<u>Questions</u>\n",
    "1. What is a comment?\n",
    "2. Why do we need to comment?\n",
    "\n",
    "\n",
    "## Single line comment"
   ]
  },
  {
   "cell_type": "code",
   "execution_count": 3,
   "id": "d1b91b44",
   "metadata": {
    "ExecuteTime": {
     "end_time": "2022-06-27T17:31:19.527883Z",
     "start_time": "2022-06-27T17:31:19.525377Z"
    }
   },
   "outputs": [],
   "source": [
    "# This is a comment.\n",
    "# This is the second line of comments."
   ]
  },
  {
   "cell_type": "markdown",
   "id": "58ebefb2",
   "metadata": {},
   "source": [
    "It is recommended to have a space in between the # and your comment message.\n",
    "\n",
    "e.g., <b>not recommended</b> one could be:"
   ]
  },
  {
   "cell_type": "code",
   "execution_count": 9,
   "id": "cb5f8677",
   "metadata": {
    "ExecuteTime": {
     "end_time": "2022-06-27T17:45:35.153541Z",
     "start_time": "2022-06-27T17:45:35.151515Z"
    }
   },
   "outputs": [],
   "source": [
    "#Today is sunny"
   ]
  },
  {
   "cell_type": "markdown",
   "id": "621e9880",
   "metadata": {},
   "source": [
    "e.g., <b>recommended</b> one could be:"
   ]
  },
  {
   "cell_type": "code",
   "execution_count": 10,
   "id": "b845858d",
   "metadata": {
    "ExecuteTime": {
     "end_time": "2022-06-27T17:45:35.877788Z",
     "start_time": "2022-06-27T17:45:35.875551Z"
    }
   },
   "outputs": [],
   "source": [
    "# Today is sunny"
   ]
  },
  {
   "cell_type": "markdown",
   "id": "75922643",
   "metadata": {},
   "source": [
    "## Multiple line comments\n",
    "\n",
    "Sometimes, one line comment is not enough to write/leave a message, so we need to have multiple line comments."
   ]
  },
  {
   "cell_type": "code",
   "execution_count": 4,
   "id": "4963f009",
   "metadata": {
    "ExecuteTime": {
     "end_time": "2022-06-27T17:31:21.602065Z",
     "start_time": "2022-06-27T17:31:21.597575Z"
    }
   },
   "outputs": [
    {
     "data": {
      "text/plain": [
       "'\\n    This is my first multiple line comments.\\n    I can jump to the next line to start to write my next comment.\\n'"
      ]
     },
     "execution_count": 4,
     "metadata": {},
     "output_type": "execute_result"
    }
   ],
   "source": [
    "'''\n",
    "    This is my first multiple line comments.\n",
    "    I can jump to the next line to start to write my next comment.\n",
    "'''"
   ]
  },
  {
   "cell_type": "markdown",
   "id": "4a2847d3",
   "metadata": {},
   "source": [
    "However, in Python, there are two ways to write multiple line comments, and they are as follow:\n",
    "\n",
    "- Three single quote: '''\n",
    "- Three double quote: \"\"\""
   ]
  },
  {
   "cell_type": "code",
   "execution_count": 6,
   "id": "edcb475c",
   "metadata": {
    "ExecuteTime": {
     "end_time": "2022-06-27T17:32:57.309517Z",
     "start_time": "2022-06-27T17:32:57.305905Z"
    }
   },
   "outputs": [
    {
     "data": {
      "text/plain": [
       "'\\n    This is my first multiple line comments.,\\n    I can jump to the next line to start to write my next comment.\\n'"
      ]
     },
     "execution_count": 6,
     "metadata": {},
     "output_type": "execute_result"
    }
   ],
   "source": [
    "\"\"\"\n",
    "    This is my first multiple line comments.,\n",
    "    I can jump to the next line to start to write my next comment.\n",
    "\"\"\""
   ]
  },
  {
   "cell_type": "markdown",
   "id": "e731a398",
   "metadata": {},
   "source": [
    "Also, I can use single # to have multple line comments."
   ]
  },
  {
   "cell_type": "code",
   "execution_count": 8,
   "id": "bc9c5d10",
   "metadata": {
    "ExecuteTime": {
     "end_time": "2022-06-27T17:37:57.133316Z",
     "start_time": "2022-06-27T17:37:57.130763Z"
    }
   },
   "outputs": [],
   "source": [
    "# Today is cloudy.\n",
    "# My bedroom is very humid :("
   ]
  },
  {
   "cell_type": "markdown",
   "id": "fe72db67",
   "metadata": {},
   "source": [
    "---"
   ]
  },
  {
   "cell_type": "markdown",
   "id": "18ac27fd",
   "metadata": {},
   "source": [
    "# Variables\n",
    "\n",
    "## Get Started\n",
    "\n",
    "<u>Questions</u>\n",
    "\n",
    "- What is a variable?\n",
    "- In the following three options, where do the variables stored?\n",
    "    - CPU\n",
    "    - RAM\n",
    "    - Storage\n",
    "\n",
    "\n",
    "How to create a variable in Python?\n",
    "\n",
    "LHS = RHS<br>\n",
    "\n",
    "$\n",
    "\\text{<variable name>} = \\text{<variable value>}\n",
    "$\n",
    "    \n",
    "<br>\n",
    "\n",
    "<b>Rules on how to name a variable</b>\n",
    "1. It can be only one word.\n",
    "2. It can use only letters, numbers, and the underscore (_) character.\n",
    "3. It can end with a number or the underscore (_) character.\n",
    "4. It can’t begin with a number.\n",
    "5. It can’t contain any special characters.\n",
    "\n",
    "<br>\n",
    "\n",
    "<b>Rules on how to give a variable value</b>\n",
    "1. Number do not need single/double quote.\n",
    "2. Text data value need single/double quote."
   ]
  },
  {
   "cell_type": "code",
   "execution_count": 13,
   "id": "0cc6e5f5",
   "metadata": {
    "ExecuteTime": {
     "end_time": "2022-06-27T18:03:09.514351Z",
     "start_time": "2022-06-27T18:03:09.511538Z"
    }
   },
   "outputs": [],
   "source": [
    "# examples\n",
    "\n",
    "# variables with number values\n",
    "\n",
    "Henry_age = 24\n",
    "Sean_age = 10\n",
    "weather = 109.92\n",
    "\n",
    "# variables with text values\n",
    "name1 = \"Henry\"\n",
    "name2 = \"Sean\"\n",
    "name3 = \"William\"\n",
    "\n",
    "# more examples\n",
    "pizza999 = 94.23\n",
    "noodles837 = 442"
   ]
  },
  {
   "cell_type": "markdown",
   "id": "5791f121",
   "metadata": {},
   "source": [
    "Note, it is recommended to create a variable with all lower case unless it's special variable. e.g., a person's name or a variable that will not change its value.\n",
    "\n",
    "With the variables that will not change its value, we always make the variable name all upper case! And, we call it as a <b>constant</b>!\n",
    "\n",
    "e.g., a variable that will never change its value forever would be $\\pi$"
   ]
  },
  {
   "cell_type": "code",
   "execution_count": 14,
   "id": "403d3fe5",
   "metadata": {
    "ExecuteTime": {
     "end_time": "2022-06-27T18:12:24.224447Z",
     "start_time": "2022-06-27T18:12:24.222188Z"
    }
   },
   "outputs": [],
   "source": [
    "PI = 3.1415"
   ]
  },
  {
   "cell_type": "markdown",
   "id": "8d486487",
   "metadata": {},
   "source": [
    "## <i>print()</i>\n",
    "\n",
    "In programming, we are able to output the result that we want to display on the screen. In order to do it, we can use Python's built-in function <i>print()</i>.\n",
    "\n",
    "Just like that, we simply put whatever we want inside the parentheses."
   ]
  },
  {
   "cell_type": "code",
   "execution_count": 15,
   "id": "9e72e6c7",
   "metadata": {
    "ExecuteTime": {
     "end_time": "2022-06-27T18:23:17.269891Z",
     "start_time": "2022-06-27T18:23:17.267476Z"
    }
   },
   "outputs": [
    {
     "name": "stdout",
     "output_type": "stream",
     "text": [
      "24\n"
     ]
    }
   ],
   "source": [
    "# example\n",
    "print(Henry_age)"
   ]
  },
  {
   "attachments": {
    "string_slice_1.png": {
     "image/png": "[encoded data removed]"
    }
   },
   "cell_type": "markdown",
   "id": "6d9d8217",
   "metadata": {},
   "source": [
    "# String Formatting\n",
    "\n",
    "<u>Questions</u>\n",
    "- What is a string?\n",
    "- What is string formatting?\n",
    "\n",
    "\n",
    "String formatting is a custom text or variable in predefined text.\n",
    "\n",
    "## String Slice\n",
    "\n",
    "- Take part of the string\n",
    "\n",
    "\n",
    "### Access single letter\n",
    "![string_slice_1.png](attachment:string_slice_1.png)"
   ]
  },
  {
   "cell_type": "code",
   "execution_count": 30,
   "id": "15eccd1f",
   "metadata": {
    "ExecuteTime": {
     "end_time": "2022-06-28T01:35:11.809941Z",
     "start_time": "2022-06-28T01:35:11.807436Z"
    }
   },
   "outputs": [
    {
     "name": "stdout",
     "output_type": "stream",
     "text": [
      "Formatting\n"
     ]
    }
   ],
   "source": [
    "example = \"Formatting\"\n",
    "\n",
    "\n",
    "print(example)\n",
    "# print(example[1])"
   ]
  },
  {
   "attachments": {
    "string_slice_1_b.png": {
     "image/png": "[encoded data removed]"
    }
   },
   "cell_type": "markdown",
   "id": "ac7bf7a8",
   "metadata": {},
   "source": [
    "### Access part of the text\n",
    "\n",
    "![string_slice_1_b.png](attachment:string_slice_1_b.png)\n",
    "\n",
    "Access the slice through [] where we specify the range that we want to access.\n",
    "\n",
    "e.g., [\\<start>:\\<end>]"
   ]
  },
  {
   "cell_type": "code",
   "execution_count": 29,
   "id": "d47d5625",
   "metadata": {
    "ExecuteTime": {
     "end_time": "2022-06-28T01:35:08.217647Z",
     "start_time": "2022-06-28T01:35:08.215302Z"
    }
   },
   "outputs": [
    {
     "name": "stdout",
     "output_type": "stream",
     "text": [
      "Formatting\n"
     ]
    }
   ],
   "source": [
    "print(example)\n",
    "# print(example[5:6])"
   ]
  },
  {
   "attachments": {
    "string_slice_2.png": {
     "image/png": "[encoded data removed]"
    }
   },
   "cell_type": "markdown",
   "id": "e2b450b1",
   "metadata": {},
   "source": [
    "### Access the single letter (backward)\n",
    "\n",
    "![string_slice_2.png](attachment:string_slice_2.png)"
   ]
  },
  {
   "cell_type": "code",
   "execution_count": 28,
   "id": "1e251520",
   "metadata": {
    "ExecuteTime": {
     "end_time": "2022-06-28T01:35:05.865842Z",
     "start_time": "2022-06-28T01:35:05.863308Z"
    }
   },
   "outputs": [
    {
     "name": "stdout",
     "output_type": "stream",
     "text": [
      "Formatting\n"
     ]
    }
   ],
   "source": [
    "print(example)\n",
    "# print(example[-6])"
   ]
  },
  {
   "attachments": {
    "string_slice_2_b.png": {
     "image/png": "[encoded data removed]"
    }
   },
   "cell_type": "markdown",
   "id": "eb257add",
   "metadata": {},
   "source": [
    "### Access part of the text\n",
    "\n",
    "![string_slice_2_b.png](attachment:string_slice_2_b.png)"
   ]
  },
  {
   "cell_type": "code",
   "execution_count": 26,
   "id": "9213316f",
   "metadata": {
    "ExecuteTime": {
     "end_time": "2022-06-28T01:35:00.459452Z",
     "start_time": "2022-06-28T01:35:00.456119Z"
    }
   },
   "outputs": [
    {
     "name": "stdout",
     "output_type": "stream",
     "text": [
      "Formatting\n"
     ]
    }
   ],
   "source": [
    "print(example)\n",
    "# print(example[-4:-1])"
   ]
  },
  {
   "cell_type": "markdown",
   "id": "23e26772",
   "metadata": {},
   "source": [
    "## <i>format()</i>\n",
    "\n",
    "Sometimes, we may want to print more than just the value of the variable. Therefore, <i>format()</i> method could be very helpful here!"
   ]
  },
  {
   "cell_type": "code",
   "execution_count": 31,
   "id": "c843d146",
   "metadata": {
    "ExecuteTime": {
     "end_time": "2022-06-28T01:36:57.055258Z",
     "start_time": "2022-06-28T01:36:57.052854Z"
    }
   },
   "outputs": [
    {
     "name": "stdout",
     "output_type": "stream",
     "text": [
      "Henry\n"
     ]
    }
   ],
   "source": [
    "print(name1)"
   ]
  },
  {
   "cell_type": "code",
   "execution_count": 32,
   "id": "8e275e8b",
   "metadata": {
    "ExecuteTime": {
     "end_time": "2022-06-28T01:37:08.434568Z",
     "start_time": "2022-06-28T01:37:08.432297Z"
    }
   },
   "outputs": [
    {
     "name": "stdout",
     "output_type": "stream",
     "text": [
      "My name is Henry\n"
     ]
    }
   ],
   "source": [
    "print(\"My name is {}\".format(name1))"
   ]
  }
 ],
 "metadata": {
  "kernelspec": {
   "display_name": "ml",
   "language": "python",
   "name": "ml"
  },
  "language_info": {
   "codemirror_mode": {
    "name": "ipython",
    "version": 3
   },
   "file_extension": ".py",
   "mimetype": "text/x-python",
   "name": "python",
   "nbconvert_exporter": "python",
   "pygments_lexer": "ipython3",
   "version": "3.10.5"
  },
  "toc": {
   "base_numbering": 1,
   "nav_menu": {
    "height": "479px",
    "width": "383px"
   },
   "number_sections": true,
   "sideBar": true,
   "skip_h1_title": false,
   "title_cell": "Table of Contents",
   "title_sidebar": "Contents",
   "toc_cell": true,
   "toc_position": {
    "height": "calc(100% - 180px)",
    "left": "10px",
    "top": "150px",
    "width": "231px"
   },
   "toc_section_display": true,
   "toc_window_display": true
  }
 },
 "nbformat": 4,
 "nbformat_minor": 5
}
