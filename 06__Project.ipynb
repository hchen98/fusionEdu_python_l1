{
 "cells": [
  {
   "cell_type": "markdown",
   "id": "6c9f3c19",
   "metadata": {
    "toc": true,
    "pycharm": {
     "name": "#%% md\n"
    }
   },
   "source": [
    "<h1>Table of Contents<span class=\"tocSkip\"></span></h1>\n",
    "<div class=\"toc\"><ul class=\"toc-item\"><li><span><a href=\"#Fusion-Education\" data-toc-modified-id=\"Fusion-Education-1\"><span class=\"toc-item-num\">1&nbsp;&nbsp;</span>Fusion Education</a></span></li><li><span><a href=\"#Directions\" data-toc-modified-id=\"Directions-2\"><span class=\"toc-item-num\">2&nbsp;&nbsp;</span>Directions</a></span></li><li><span><a href=\"#Team\" data-toc-modified-id=\"Team-3\"><span class=\"toc-item-num\">3&nbsp;&nbsp;</span>Team</a></span></li><li><span><a href=\"#Program\" data-toc-modified-id=\"Program-4\"><span class=\"toc-item-num\">4&nbsp;&nbsp;</span>Program</a></span></li></ul></div>"
   ]
  },
  {
   "cell_type": "markdown",
   "id": "70f6fca5",
   "metadata": {
    "pycharm": {
     "name": "#%% md\n"
    }
   },
   "source": [
    "# Fusion Education\n",
    "\n",
    "- Instructor: Hui (Henry) Chen and Peggy\n",
    "- Time: Saturday 11:30 AM - 12:30 PM\n",
    "- Python version: 3.9.x\n",
    "\n",
    "<u>Topics</u>:\n",
    "1. Review\n",
    "2. Project"
   ]
  },
  {
   "cell_type": "markdown",
   "id": "3030623e",
   "metadata": {
    "pycharm": {
     "name": "#%% md\n"
    }
   },
   "source": [
    "# Directions\n",
    "\n",
    "1. Working in pairs.\n",
    "2. Estimate to complete the project: 2 weeks.\n",
    "3. Project topic: rock paper scissors game.\n",
    "4. You will utilize all knowledge learned from the course to complete this project.\n",
    "5. DO NOT use external source. e.g., copy the code from the internet.\n",
    "6. Ask question(s) whenever you are lost/confused about the project!\n",
    "7. Everyone needs to submit the code on Google Classroom!"
   ]
  },
  {
   "cell_type": "markdown",
   "id": "853ac3ef",
   "metadata": {
    "pycharm": {
     "name": "#%% md\n"
    }
   },
   "source": [
    "# Team"
   ]
  },
  {
   "cell_type": "code",
   "execution_count": 1,
   "id": "3dc0783b",
   "metadata": {
    "ExecuteTime": {
     "end_time": "2022-08-18T18:51:51.262808Z",
     "start_time": "2022-08-18T18:51:51.260222Z"
    },
    "pycharm": {
     "name": "#%%\n"
    }
   },
   "outputs": [],
   "source": [
    "import random"
   ]
  },
  {
   "cell_type": "code",
   "execution_count": 3,
   "id": "cd36fa4a",
   "metadata": {
    "ExecuteTime": {
     "end_time": "2022-08-18T18:53:35.165557Z",
     "start_time": "2022-08-18T18:53:35.162576Z"
    },
    "pycharm": {
     "name": "#%%\n"
    }
   },
   "outputs": [],
   "source": [
    "students = [\"Nuoyu Chen\", \"Daniel DSW\", \"Leo Weng\", \"JunRen Wu\", \"William Zheng\", \"William ZhongWeiLC\"]"
   ]
  },
  {
   "cell_type": "code",
   "execution_count": 4,
   "id": "db2d1946",
   "metadata": {
    "ExecuteTime": {
     "end_time": "2022-08-18T18:53:40.453753Z",
     "start_time": "2022-08-18T18:53:40.450158Z"
    },
    "pycharm": {
     "name": "#%%\n"
    }
   },
   "outputs": [
    {
     "name": "stdout",
     "output_type": "stream",
     "text": [
      "['Leo Weng', 'Daniel DSW', 'JunRen Wu', 'William Zheng', 'William ZhongWeiLC', 'Nuoyu Chen']\n"
     ]
    }
   ],
   "source": [
    "random.shuffle(students)\n",
    "\n",
    "print(students)"
   ]
  },
  {
   "cell_type": "code",
   "execution_count": 9,
   "id": "5bf39a16",
   "metadata": {
    "ExecuteTime": {
     "end_time": "2022-08-18T18:57:35.212552Z",
     "start_time": "2022-08-18T18:57:35.209097Z"
    },
    "pycharm": {
     "name": "#%%\n"
    }
   },
   "outputs": [
    {
     "name": "stdout",
     "output_type": "stream",
     "text": [
      "[('Leo Weng', 'Daniel DSW'), ('JunRen Wu', 'William Zheng'), ('William ZhongWeiLC', 'Nuoyu Chen')]\n"
     ]
    }
   ],
   "source": [
    "pairs = list(zip(students[::2], students[1::2]))\n",
    "\n",
    "print(pairs)"
   ]
  },
  {
   "cell_type": "markdown",
   "id": "84be274d",
   "metadata": {
    "pycharm": {
     "name": "#%% md\n"
    }
   },
   "source": [
    "# Program"
   ]
  },
  {
   "cell_type": "code",
   "execution_count": null,
   "id": "ca97ff19",
   "metadata": {
    "pycharm": {
     "name": "#%%\n"
    }
   },
   "outputs": [],
   "source": [
    "\"\"\"\n",
    "<your name>, <today's date>\n",
    "<your partner's name>\n",
    "\"\"\"\n",
    "\n",
    "# import the library that generates the random numbers\n",
    "import random\n",
    "\n",
    "# welcome message to the user\n",
    "print(\"###################### Welcome to Rock, Paper, and Sciss V.1.0 #######################\")\n",
    "print(\"Let me remind you the rule first: \\n Scissor cuts paper, paper covers rock, and rock breaks scissors.\")\n",
    "print(\"0: Rock\\n1: Paper\\n2: Scissor\")\n",
    "\n",
    "\n",
    "# get user's input from the console\n",
    "______ = input(\"Enter your choice:\\n>>>\")\n",
    "\n",
    "# convert the user's input to an integer\n",
    "yourChoice = int(______)\n",
    "\n",
    "# skip a line\n",
    "print()\n",
    "\n",
    "# generate random numbers between 0 (including 0) and 2 (including 2)\n",
    "computerChoice = random.randint(0, 2)\n",
    "computerChoice = computerChoice % 3     # why do we have to modulus 3? Think about it.\n",
    "\n",
    "\n",
    "# Compare your Choice with computer’s choice and output the result.\n",
    "\n",
    "# Case I: Both you and computer pick the same choice, then it’s a tie!\n",
    "if yourChoice == computerChoice:\n",
    "    print(\"It's a tie!\")\n",
    "    print(f\"Your choice is: {yourChoice}\")\n",
    "    print(f\"Computer choice is: {computerChoice}\")\n",
    "\n",
    "\n",
    "# Case II: You WIN :)\n",
    "\n",
    "\n",
    "# Case III: You lose :(\n"
   ]
  },
  {
   "cell_type": "markdown",
   "source": [
    "# Test"
   ],
   "metadata": {
    "collapsed": false,
    "pycharm": {
     "name": "#%% md\n"
    }
   }
  },
  {
   "cell_type": "markdown",
   "source": [
    "Think of the real-world example, we are getting input from the user. However, this is part where we cannot control what's been input. Therefore, we need to make sure the program passes the potential test cases. Therefore, here are three test cases to get started:\n",
    "* an empty input\n",
    "* incorrect input(s)\n",
    "    * e.g., anything number except 0, 1, and 2\n",
    "    * e.g., special characters\n",
    "* correct input(s)"
   ],
   "metadata": {
    "collapsed": false,
    "pycharm": {
     "name": "#%% md\n"
    }
   }
  },
  {
   "cell_type": "code",
   "execution_count": null,
   "outputs": [],
   "source": [],
   "metadata": {
    "collapsed": false,
    "pycharm": {
     "name": "#%%\n"
    }
   }
  }
 ],
 "metadata": {
  "kernelspec": {
   "display_name": "ml",
   "language": "python",
   "name": "ml"
  },
  "language_info": {
   "codemirror_mode": {
    "name": "ipython",
    "version": 3
   },
   "file_extension": ".py",
   "mimetype": "text/x-python",
   "name": "python",
   "nbconvert_exporter": "python",
   "pygments_lexer": "ipython3",
   "version": "3.9.13"
  },
  "toc": {
   "base_numbering": 1,
   "nav_menu": {},
   "number_sections": true,
   "sideBar": true,
   "skip_h1_title": false,
   "title_cell": "Table of Contents",
   "title_sidebar": "Contents",
   "toc_cell": true,
   "toc_position": {},
   "toc_section_display": true,
   "toc_window_display": false
  }
 },
 "nbformat": 4,
 "nbformat_minor": 5
}